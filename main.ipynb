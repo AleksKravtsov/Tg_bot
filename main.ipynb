{
 "cells": [
  {
   "cell_type": "code",
   "execution_count": 13,
   "metadata": {},
   "outputs": [],
   "source": [
    "from config import open_weather_token\n",
    "import requests\n",
    "import datetime\n",
    "from pprint import pprint"
   ]
  },
  {
   "cell_type": "code",
   "execution_count": 23,
   "metadata": {},
   "outputs": [
    {
     "name": "stdout",
     "output_type": "stream",
     "text": [
      "***25-01-2023 18:13***\n",
      "Погода в городе: Moscow\n",
      "Температура: -1.9C°\n",
      "Влажность: 89\n",
      "Давление: 1028 мм.рт.ст\n",
      "Скорость ветра: 3.32 м/c\n"
     ]
    }
   ],
   "source": [
    "def get_wheater(city, open_weather_token):\n",
    "    try:\n",
    "        r = requests.get(\n",
    "            f\"https://api.openweathermap.org/data/2.5/weather?q={city}&appid={open_weather_token}&units=metric\"\n",
    "        )\n",
    "        data = r.json()\n",
    "        # pprint(data)\n",
    "\n",
    "        city = data['name']\n",
    "        cur_weather = data['main']['temp']\n",
    "        humidity = data['main']['humidity']\n",
    "        pressure = data['main']['pressure']\n",
    "        wind = data['wind']['speed']\n",
    "\n",
    "        print(f'***{datetime.datetime.now().strftime(\"%d-%m-%Y %H:%M\")}***\\n'\n",
    "              f'Погода в городе: {city}\\nТемпература: {cur_weather}C°\\n'\n",
    "              f'Влажность: {humidity}\\nДавление: {pressure} мм.рт.ст\\n'\n",
    "              f'Скорость ветра: {wind} м/c')\n",
    "\n",
    "\n",
    "    except Exception as ex:\n",
    "        print(ex)\n",
    "        print('Проверьте название города')\n",
    "\n",
    "\n",
    "def main():\n",
    "    city = input('Введите город: ')\n",
    "    get_wheater(city, open_weather_token)\n",
    "    pass\n",
    "\n",
    "\n",
    "if __name__ == '__main__':\n",
    "    main()"
   ]
  },
  {
   "cell_type": "code",
   "execution_count": null,
   "metadata": {},
   "outputs": [],
   "source": []
  }
 ],
 "metadata": {
  "kernelspec": {
   "display_name": "Python 3",
   "language": "python",
   "name": "python3"
  },
  "language_info": {
   "codemirror_mode": {
    "name": "ipython",
    "version": 3
   },
   "file_extension": ".py",
   "mimetype": "text/x-python",
   "name": "python",
   "nbconvert_exporter": "python",
   "pygments_lexer": "ipython3",
   "version": "3.10.2"
  },
  "orig_nbformat": 4,
  "vscode": {
   "interpreter": {
    "hash": "408fc96a58562a133ef7a675aa7e16322a3cc9ced77f227985f7a331fa0fbe60"
   }
  }
 },
 "nbformat": 4,
 "nbformat_minor": 2
}
