{
 "cells": [
  {
   "cell_type": "code",
   "execution_count": 2,
   "metadata": {},
   "outputs": [],
   "source": [
    "from config import open_weather_token\n",
    "import requests\n",
    "import datetime\n",
    "from pprint import pprint"
   ]
  },
  {
   "cell_type": "code",
   "execution_count": 3,
   "metadata": {},
   "outputs": [
    {
     "name": "stdout",
     "output_type": "stream",
     "text": [
      "***25-01-2023 20:05***\n",
      "Погода в городе: Moscow\n",
      "Температура: -1.9C° Облачно ☁\n",
      "Влажность: 88\n",
      "Давление: 1027 мм.рт.ст\n",
      "Скорость ветра: 3.75 м/c\n"
     ]
    }
   ],
   "source": [
    "def get_wheater(city, open_weather_token):\n",
    "    \n",
    "    code_to_smile = {\n",
    "        'Clear': 'Ясно \\U00002600',\n",
    "        'Clouds': 'Облачно \\U00002601',\n",
    "        'Rain': 'Дождь \\U00002614',\n",
    "        'Drizzle': 'Дождь \\U00002614',\n",
    "        'Thunderstorm': 'Гроза \\U000026A1',\n",
    "        'Snow': 'Снег \\U0001F328',\n",
    "        'Mist': 'Туман \\U0001F32B'\n",
    "    }\n",
    "    \n",
    "    \n",
    "    \n",
    "    try:\n",
    "        r = requests.get(\n",
    "            f\"https://api.openweathermap.org/data/2.5/weather?q={city}&appid={open_weather_token}&units=metric\"\n",
    "        )\n",
    "        data = r.json()\n",
    "        # pprint(data)\n",
    "\n",
    "        city = data['name']\n",
    "        cur_weather = data['main']['temp']\n",
    "\n",
    "        weather_description = data['weather'][0]['main']\n",
    "        if weather_description in code_to_smile:\n",
    "            wd = code_to_smile[weather_description]\n",
    "        else:\n",
    "            wd = 'А фиг его знает, что там, глянть в окно:)'\n",
    "\n",
    "\n",
    "        humidity = data['main']['humidity']\n",
    "        pressure = data['main']['pressure']\n",
    "        wind = data['wind']['speed']\n",
    "\n",
    "        print(f'***{datetime.datetime.now().strftime(\"%d-%m-%Y %H:%M\")}***\\n'\n",
    "              f'Погода в городе: {city}\\nТемпература: {cur_weather}C° {wd}\\n'\n",
    "              f'Влажность: {humidity}\\nДавление: {pressure} мм.рт.ст\\n'\n",
    "              f'Скорость ветра: {wind} м/c')\n",
    "\n",
    "\n",
    "    except Exception as ex:\n",
    "        print(ex)\n",
    "        print('Проверьте название города')\n",
    "\n",
    "\n",
    "def main():\n",
    "    city = input('Введите город: ')\n",
    "    get_wheater(city, open_weather_token)\n",
    "    pass\n",
    "\n",
    "\n",
    "if __name__ == '__main__':\n",
    "    main()"
   ]
  },
  {
   "cell_type": "code",
   "execution_count": null,
   "metadata": {},
   "outputs": [],
   "source": []
  }
 ],
 "metadata": {
  "kernelspec": {
   "display_name": "Python 3",
   "language": "python",
   "name": "python3"
  },
  "language_info": {
   "codemirror_mode": {
    "name": "ipython",
    "version": 3
   },
   "file_extension": ".py",
   "mimetype": "text/x-python",
   "name": "python",
   "nbconvert_exporter": "python",
   "pygments_lexer": "ipython3",
   "version": "3.10.2"
  },
  "orig_nbformat": 4,
  "vscode": {
   "interpreter": {
    "hash": "408fc96a58562a133ef7a675aa7e16322a3cc9ced77f227985f7a331fa0fbe60"
   }
  }
 },
 "nbformat": 4,
 "nbformat_minor": 2
}
